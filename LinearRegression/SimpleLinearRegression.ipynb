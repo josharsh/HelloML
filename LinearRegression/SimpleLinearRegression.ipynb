{
  "nbformat": 4,
  "nbformat_minor": 0,
  "metadata": {
    "colab": {
      "name": "SimpleLinearRegression.ipynb",
      "provenance": [],
      "include_colab_link": true
    },
    "kernelspec": {
      "name": "python3",
      "display_name": "Python 3"
    }
  },
  "cells": [
    {
      "cell_type": "markdown",
      "metadata": {
        "id": "view-in-github",
        "colab_type": "text"
      },
      "source": [
        "<a href=\"https://colab.research.google.com/github/josharsh/HelloML/blob/master/LinearRegression/SimpleLinearRegression.ipynb\" target=\"_parent\"><img src=\"https://colab.research.google.com/assets/colab-badge.svg\" alt=\"Open In Colab\"/></a>"
      ]
    },
    {
      "cell_type": "code",
      "metadata": {
        "id": "rWhI8UYdqUWd",
        "colab_type": "code",
        "colab": {}
      },
      "source": [
        "import pandas as pnd\n",
        "import numpy as nmp\n",
        "from sklearn import linear_model\n",
        "import matplotlib.pyplot as plt\n",
        "from sklearn.metrics import r2_score\n"
      ],
      "execution_count": 0,
      "outputs": []
    },
    {
      "cell_type": "code",
      "metadata": {
        "id": "Tx2ZatqUqoct",
        "colab_type": "code",
        "colab": {
          "base_uri": "https://localhost:8080/",
          "height": 204
        },
        "outputId": "3d1b55f4-5c2b-4640-bfee-09fbd6c8fb3b"
      },
      "source": [
        "!wget -O Data.csv https://raw.githubusercontent.com/josharsh/HelloML/master/Dataset/LinearRegressionData.csv"
      ],
      "execution_count": 25,
      "outputs": [
        {
          "output_type": "stream",
          "text": [
            "--2019-12-27 14:33:54--  https://raw.githubusercontent.com/josharsh/HelloML/master/Dataset/LinearRegressionData.csv\n",
            "Resolving raw.githubusercontent.com (raw.githubusercontent.com)... 151.101.0.133, 151.101.64.133, 151.101.128.133, ...\n",
            "Connecting to raw.githubusercontent.com (raw.githubusercontent.com)|151.101.0.133|:443... connected.\n",
            "HTTP request sent, awaiting response... 200 OK\n",
            "Length: 16553 (16K) [text/plain]\n",
            "Saving to: ‘Data.csv’\n",
            "\n",
            "\rData.csv              0%[                    ]       0  --.-KB/s               \rData.csv            100%[===================>]  16.17K  --.-KB/s    in 0.01s   \n",
            "\n",
            "2019-12-27 14:33:54 (1.30 MB/s) - ‘Data.csv’ saved [16553/16553]\n",
            "\n"
          ],
          "name": "stdout"
        }
      ]
    },
    {
      "cell_type": "code",
      "metadata": {
        "id": "xtSPk2CWtLuc",
        "colab_type": "code",
        "colab": {}
      },
      "source": [
        "drr=pnd.read_csv('Data.csv')"
      ],
      "execution_count": 0,
      "outputs": []
    },
    {
      "cell_type": "code",
      "metadata": {
        "id": "TmF8O-U2tTDZ",
        "colab_type": "code",
        "colab": {}
      },
      "source": [
        "dr=drr.head(20)"
      ],
      "execution_count": 0,
      "outputs": []
    },
    {
      "cell_type": "code",
      "metadata": {
        "id": "zNDPB2Bkuryt",
        "colab_type": "code",
        "colab": {}
      },
      "source": [
        "regr=linear_model.LinearRegression()"
      ],
      "execution_count": 0,
      "outputs": []
    },
    {
      "cell_type": "code",
      "metadata": {
        "id": "pVsUY5TJzEiG",
        "colab_type": "code",
        "colab": {}
      },
      "source": [
        "msk = nmp.random.rand(len(dr)) < 0.8\n",
        "train = dr[msk]\n",
        "test = dr[~msk]"
      ],
      "execution_count": 0,
      "outputs": []
    },
    {
      "cell_type": "code",
      "metadata": {
        "id": "2vlMUvaqyIh5",
        "colab_type": "code",
        "colab": {
          "base_uri": "https://localhost:8080/",
          "height": 34
        },
        "outputId": "6bb2bd5d-29fb-4cfb-c79c-4c73cfbb66d5"
      },
      "source": [
        "train_x=nmp.asanyarray(train[['xii']])\n",
        "train_y=nmp.asanyarray(train[['cgpa']])\n",
        "regr.fit(train_x,train_y)"
      ],
      "execution_count": 61,
      "outputs": [
        {
          "output_type": "execute_result",
          "data": {
            "text/plain": [
              "LinearRegression(copy_X=True, fit_intercept=True, n_jobs=None, normalize=False)"
            ]
          },
          "metadata": {
            "tags": []
          },
          "execution_count": 61
        }
      ]
    },
    {
      "cell_type": "code",
      "metadata": {
        "id": "h8qycSrNycy7",
        "colab_type": "code",
        "colab": {
          "base_uri": "https://localhost:8080/",
          "height": 279
        },
        "outputId": "3339bf26-046a-4cef-fcc8-32af987a2bc8"
      },
      "source": [
        "plt.scatter(dr.xii, dr.cgpa, color='blue')\n",
        "plt.xlabel(\"XII\")\n",
        "plt.ylabel(\"CGPA\")\n",
        "plt.show()"
      ],
      "execution_count": 62,
      "outputs": [
        {
          "output_type": "display_data",
          "data": {
            "image/png": "[encoded data removed]",
            "text/plain": [
              "<Figure size 432x288 with 1 Axes>"
            ]
          },
          "metadata": {
            "tags": []
          }
        }
      ]
    },
    {
      "cell_type": "code",
      "metadata": {
        "id": "ixJMP3NUzTzS",
        "colab_type": "code",
        "colab": {}
      },
      "source": [
        "test_x=nmp.asanyarray(test[['xii']])\n",
        "test_y=nmp.asanyarray(test[['cgpa']])\n",
        "test_y_hat = regr.predict(test_x)\n",
        "#print(\"Mean absolute error: %.2f\" % nmp.mean(nmp.absolute(test_y_hat - test_y)))\n",
        "#print(\"Residual sum of squares (MSE): %.2f\" % nmp.mean((test_y_hat - test_y) ** 2))\n",
        "#print(\"R2-score: %.2f\" % r2_score(test_y_hat , test_y) )***"
      ],
      "execution_count": 0,
      "outputs": []
    },
    {
      "cell_type": "code",
      "metadata": {
        "id": "dU1_s5qMzjSC",
        "colab_type": "code",
        "colab": {
          "base_uri": "https://localhost:8080/",
          "height": 51
        },
        "outputId": "27ec1684-0f5c-4ca1-d8dd-678d600c9636"
      },
      "source": [
        "print(test_x)\n"
      ],
      "execution_count": 65,
      "outputs": [
        {
          "output_type": "stream",
          "text": [
            "[[91.6]\n",
            " [88.2]]\n"
          ],
          "name": "stdout"
        }
      ]
    },
    {
      "cell_type": "code",
      "metadata": {
        "id": "f2JfzjQO0O31",
        "colab_type": "code",
        "colab": {
          "base_uri": "https://localhost:8080/",
          "height": 51
        },
        "outputId": "8472cf5c-7eea-43ea-c4c3-f10affc51a79"
      },
      "source": [
        "print(test_y)"
      ],
      "execution_count": 66,
      "outputs": [
        {
          "output_type": "stream",
          "text": [
            "[[8.71]\n",
            " [8.59]]\n"
          ],
          "name": "stdout"
        }
      ]
    },
    {
      "cell_type": "code",
      "metadata": {
        "id": "XRpoacfT1t-D",
        "colab_type": "code",
        "colab": {
          "base_uri": "https://localhost:8080/",
          "height": 51
        },
        "outputId": "a1c254d8-1a69-47e3-965d-fea590c4894a"
      },
      "source": [
        "print(test_y_hat)"
      ],
      "execution_count": 67,
      "outputs": [
        {
          "output_type": "stream",
          "text": [
            "[[8.86057882]\n",
            " [8.77286642]]\n"
          ],
          "name": "stdout"
        }
      ]
    },
    {
      "cell_type": "code",
      "metadata": {
        "id": "BsspUu-d1w2M",
        "colab_type": "code",
        "colab": {}
      },
      "source": [
        ""
      ],
      "execution_count": 0,
      "outputs": []
    }
  ]
}