{
  "nbformat": 4,
  "nbformat_minor": 0,
  "metadata": {
    "colab": {
      "name": "MultipleLinearRegression.ipynb",
      "provenance": [],
      "include_colab_link": true
    },
    "kernelspec": {
      "name": "python3",
      "display_name": "Python 3"
    }
  },
  "cells": [
    {
      "cell_type": "markdown",
      "metadata": {
        "id": "view-in-github",
        "colab_type": "text"
      },
      "source": [
        "<a href=\"https://colab.research.google.com/github/josharsh/HelloML/blob/master/LinearRegression/MultipleLinearRegression.ipynb\" target=\"_parent\"><img src=\"https://colab.research.google.com/assets/colab-badge.svg\" alt=\"Open In Colab\"/></a>"
      ]
    },
    {
      "cell_type": "code",
      "metadata": {
        "id": "oQkRc3cx6gGc",
        "colab_type": "code",
        "colab": {}
      },
      "source": [
        "import matplotlib.pyplot as plt\n",
        "import pandas as pd\n",
        "import numpy as np\n",
        "from sklearn import linear_model\n"
      ],
      "execution_count": 0,
      "outputs": []
    },
    {
      "cell_type": "code",
      "metadata": {
        "id": "2PF0Av536r44",
        "colab_type": "code",
        "colab": {
          "base_uri": "https://localhost:8080/",
          "height": 204
        },
        "outputId": "5ec30320-6414-4d23-afa8-7af007fb55d2"
      },
      "source": [
        "!wget -O \"Data.csv\" https://raw.githubusercontent.com/josharsh/HelloML/master/Dataset/LinearRegressionData.csv"
      ],
      "execution_count": 2,
      "outputs": [
        {
          "output_type": "stream",
          "text": [
            "--2019-12-27 15:13:44--  https://raw.githubusercontent.com/josharsh/HelloML/master/Dataset/LinearRegressionData.csv\n",
            "Resolving raw.githubusercontent.com (raw.githubusercontent.com)... 151.101.0.133, 151.101.64.133, 151.101.128.133, ...\n",
            "Connecting to raw.githubusercontent.com (raw.githubusercontent.com)|151.101.0.133|:443... connected.\n",
            "HTTP request sent, awaiting response... 200 OK\n",
            "Length: 16553 (16K) [text/plain]\n",
            "Saving to: ‘Data.csv’\n",
            "\n",
            "Data.csv            100%[===================>]  16.17K  --.-KB/s    in 0.003s  \n",
            "\n",
            "2019-12-27 15:13:49 (4.61 MB/s) - ‘Data.csv’ saved [16553/16553]\n",
            "\n"
          ],
          "name": "stdout"
        }
      ]
    },
    {
      "cell_type": "code",
      "metadata": {
        "id": "W4HbxuiO6538",
        "colab_type": "code",
        "colab": {}
      },
      "source": [
        "data=pd.read_csv(\"Data.csv\")"
      ],
      "execution_count": 0,
      "outputs": []
    },
    {
      "cell_type": "code",
      "metadata": {
        "id": "Y29TtkcE7BTP",
        "colab_type": "code",
        "colab": {}
      },
      "source": [
        "dm=data.head(20)"
      ],
      "execution_count": 0,
      "outputs": []
    },
    {
      "cell_type": "code",
      "metadata": {
        "id": "MKyvweUm7JLA",
        "colab_type": "code",
        "colab": {
          "base_uri": "https://localhost:8080/",
          "height": 297
        },
        "outputId": "c4ba0f68-ae29-4fdb-cefc-744c7157d994"
      },
      "source": [
        "dm.describe()"
      ],
      "execution_count": 9,
      "outputs": [
        {
          "output_type": "execute_result",
          "data": {
            "text/html": [
              "<div>\n",
              "<style scoped>\n",
              "    .dataframe tbody tr th:only-of-type {\n",
              "        vertical-align: middle;\n",
              "    }\n",
              "\n",
              "    .dataframe tbody tr th {\n",
              "        vertical-align: top;\n",
              "    }\n",
              "\n",
              "    .dataframe thead th {\n",
              "        text-align: right;\n",
              "    }\n",
              "</style>\n",
              "<table border=\"1\" class=\"dataframe\">\n",
              "  <thead>\n",
              "    <tr style=\"text-align: right;\">\n",
              "      <th></th>\n",
              "      <th>no</th>\n",
              "      <th>sap</th>\n",
              "      <th>x</th>\n",
              "      <th>xii</th>\n",
              "      <th>cgpa</th>\n",
              "    </tr>\n",
              "  </thead>\n",
              "  <tbody>\n",
              "    <tr>\n",
              "      <th>count</th>\n",
              "      <td>20.000000</td>\n",
              "      <td>2.000000e+01</td>\n",
              "      <td>20.000000</td>\n",
              "      <td>20.000000</td>\n",
              "      <td>20.000000</td>\n",
              "    </tr>\n",
              "    <tr>\n",
              "      <th>mean</th>\n",
              "      <td>180.100000</td>\n",
              "      <td>5.000612e+08</td>\n",
              "      <td>91.560000</td>\n",
              "      <td>88.270000</td>\n",
              "      <td>8.758000</td>\n",
              "    </tr>\n",
              "    <tr>\n",
              "      <th>std</th>\n",
              "      <td>99.102233</td>\n",
              "      <td>9.718924e+02</td>\n",
              "      <td>4.524703</td>\n",
              "      <td>4.084515</td>\n",
              "      <td>0.258021</td>\n",
              "    </tr>\n",
              "    <tr>\n",
              "      <th>min</th>\n",
              "      <td>7.000000</td>\n",
              "      <td>5.000601e+08</td>\n",
              "      <td>81.700000</td>\n",
              "      <td>80.800000</td>\n",
              "      <td>8.520000</td>\n",
              "    </tr>\n",
              "    <tr>\n",
              "      <th>25%</th>\n",
              "      <td>110.750000</td>\n",
              "      <td>5.000606e+08</td>\n",
              "      <td>89.725000</td>\n",
              "      <td>86.750000</td>\n",
              "      <td>8.587500</td>\n",
              "    </tr>\n",
              "    <tr>\n",
              "      <th>50%</th>\n",
              "      <td>184.000000</td>\n",
              "      <td>5.000609e+08</td>\n",
              "      <td>93.050000</td>\n",
              "      <td>88.900000</td>\n",
              "      <td>8.690000</td>\n",
              "    </tr>\n",
              "    <tr>\n",
              "      <th>75%</th>\n",
              "      <td>267.000000</td>\n",
              "      <td>5.000618e+08</td>\n",
              "      <td>95.000000</td>\n",
              "      <td>91.450000</td>\n",
              "      <td>8.855000</td>\n",
              "    </tr>\n",
              "    <tr>\n",
              "      <th>max</th>\n",
              "      <td>326.000000</td>\n",
              "      <td>5.000635e+08</td>\n",
              "      <td>96.170000</td>\n",
              "      <td>94.800000</td>\n",
              "      <td>9.560000</td>\n",
              "    </tr>\n",
              "  </tbody>\n",
              "</table>\n",
              "</div>"
            ],
            "text/plain": [
              "               no           sap          x        xii       cgpa\n",
              "count   20.000000  2.000000e+01  20.000000  20.000000  20.000000\n",
              "mean   180.100000  5.000612e+08  91.560000  88.270000   8.758000\n",
              "std     99.102233  9.718924e+02   4.524703   4.084515   0.258021\n",
              "min      7.000000  5.000601e+08  81.700000  80.800000   8.520000\n",
              "25%    110.750000  5.000606e+08  89.725000  86.750000   8.587500\n",
              "50%    184.000000  5.000609e+08  93.050000  88.900000   8.690000\n",
              "75%    267.000000  5.000618e+08  95.000000  91.450000   8.855000\n",
              "max    326.000000  5.000635e+08  96.170000  94.800000   9.560000"
            ]
          },
          "metadata": {
            "tags": []
          },
          "execution_count": 9
        }
      ]
    },
    {
      "cell_type": "code",
      "metadata": {
        "id": "ivkQ9BRd7Mv6",
        "colab_type": "code",
        "colab": {
          "base_uri": "https://localhost:8080/",
          "height": 265
        },
        "outputId": "766e3711-68e7-4a20-bc65-e33ed2430c1a"
      },
      "source": [
        "plt.scatter(dm.x,dm.xii,dm.cgpa)\n",
        "plt.show()"
      ],
      "execution_count": 10,
      "outputs": [
        {
          "output_type": "display_data",
          "data": {
            "image/png": "[encoded data removed]",
            "text/plain": [
              "<Figure size 432x288 with 1 Axes>"
            ]
          },
          "metadata": {
            "tags": []
          }
        }
      ]
    },
    {
      "cell_type": "code",
      "metadata": {
        "id": "TOGb1sa07if6",
        "colab_type": "code",
        "colab": {}
      },
      "source": [
        "msk=np.random.rand(len(dm))<0.8\n",
        "train=dm[msk]\n",
        "test=dm[~msk]\n"
      ],
      "execution_count": 0,
      "outputs": []
    },
    {
      "cell_type": "code",
      "metadata": {
        "id": "y_sBWkhl7yzD",
        "colab_type": "code",
        "colab": {
          "base_uri": "https://localhost:8080/",
          "height": 34
        },
        "outputId": "b76d1053-9e8a-4de9-a917-19655fe2b345"
      },
      "source": [
        "regr=linear_model.LinearRegression()\n",
        "x=np.asanyarray(train[['x','xii']])\n",
        "x_name=np.asanyarray(dm[['name']])\n",
        "y=np.asanyarray(train[['cgpa']])\n",
        "regr.fit(x,y)"
      ],
      "execution_count": 32,
      "outputs": [
        {
          "output_type": "execute_result",
          "data": {
            "text/plain": [
              "LinearRegression(copy_X=True, fit_intercept=True, n_jobs=None, normalize=False)"
            ]
          },
          "metadata": {
            "tags": []
          },
          "execution_count": 32
        }
      ]
    },
    {
      "cell_type": "code",
      "metadata": {
        "id": "Y5LOpdDG8SPQ",
        "colab_type": "code",
        "colab": {}
      },
      "source": [
        "test_x=np.asanyarray(test[['x','xii']])\n",
        "test_y=np.asanyarray(test[['cgpa']])\n",
        "predicted_y= regr.predict(test[['x','xii']])"
      ],
      "execution_count": 0,
      "outputs": []
    },
    {
      "cell_type": "code",
      "metadata": {
        "id": "uZsvoVn-8fap",
        "colab_type": "code",
        "colab": {
          "base_uri": "https://localhost:8080/",
          "height": 68
        },
        "outputId": "4bdad8f2-c88b-467d-d32d-e3996a9404ef"
      },
      "source": [
        "print(test_y)"
      ],
      "execution_count": 35,
      "outputs": [
        {
          "output_type": "stream",
          "text": [
            "[[9.17]\n",
            " [8.97]\n",
            " [8.84]]\n"
          ],
          "name": "stdout"
        }
      ]
    },
    {
      "cell_type": "code",
      "metadata": {
        "id": "bC-HO7la9EeG",
        "colab_type": "code",
        "colab": {
          "base_uri": "https://localhost:8080/",
          "height": 68
        },
        "outputId": "fb19fc01-71d8-4856-bd3d-5c018f07e26f"
      },
      "source": [
        "print(predicted_y)"
      ],
      "execution_count": 36,
      "outputs": [
        {
          "output_type": "stream",
          "text": [
            "[[8.80493751]\n",
            " [8.77047198]\n",
            " [8.67835555]]\n"
          ],
          "name": "stdout"
        }
      ]
    },
    {
      "cell_type": "code",
      "metadata": {
        "id": "Nmt6SDRu9FuH",
        "colab_type": "code",
        "colab": {}
      },
      "source": [
        ""
      ],
      "execution_count": 0,
      "outputs": []
    }
  ]
}